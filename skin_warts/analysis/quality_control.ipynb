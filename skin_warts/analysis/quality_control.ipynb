{
 "cells": [
  {
   "cell_type": "markdown",
   "metadata": {
    "editable": true,
    "slideshow": {
     "slide_type": ""
    },
    "tags": [],
    "vscode": {
     "languageId": "plaintext"
    }
   },
   "source": [
    "# Quality control of Xenium data"
   ]
  },
  {
   "cell_type": "markdown",
   "metadata": {
    "editable": true,
    "slideshow": {
     "slide_type": ""
    },
    "tags": []
   },
   "source": [
    "Only one sample is anlysed in this notebook."
   ]
  },
  {
   "cell_type": "markdown",
   "metadata": {
    "editable": true,
    "slideshow": {
     "slide_type": ""
    },
    "tags": []
   },
   "source": [
    "__original__ = \"2024-11-05 Tue 13:16:29 GMT\"\n",
    "\n",
    "__created__ = \"2025-02-04 Tue 15:17:52 GMT\"\n",
    "\n",
    "__updated__ = \"2025-02-06 Thu 10:01:41 GMT\"\n",
    "\n",
    "__version__ = \"0.0.9\"\n",
    "\n",
    "__status__ = \"Prototype\"\n",
    "\n",
    "__license__ = \"GPL\"\n",
    "\n",
    "__maintainer__ = \"Ciro Ramírez-Suástegui\"\n",
    "\n",
    "__author__ = \"Ciro Ramírez-Suástegui\"\n",
    "\n",
    "__email__ = \"cs59@sanger.ac.uk, cramsuig@gmail.com\""
   ]
  },
  {
   "cell_type": "markdown",
   "metadata": {
    "editable": true,
    "slideshow": {
     "slide_type": ""
    },
    "tags": []
   },
   "source": [
    "### Structure <a class=\"anchor\" id=\"menu\"></a>"
   ]
  },
  {
   "cell_type": "markdown",
   "metadata": {
    "editable": true,
    "slideshow": {
     "slide_type": ""
    },
    "tags": []
   },
   "source": [
    "* [Global configuration](#bullet1)\n",
    "* [Loading data](#bullet2)\n",
    "* [Pre-processing](#bullet3)\n",
    "* [Main](#bullet4)\n",
    "* [Conclusions](#bullet5)\n",
    "* [Save](#bullet6)"
   ]
  },
  {
   "cell_type": "markdown",
   "metadata": {
    "editable": true,
    "slideshow": {
     "slide_type": ""
    },
    "tags": []
   },
   "source": [
    "## Environment setup\n",
    "---"
   ]
  },
  {
   "cell_type": "markdown",
   "metadata": {
    "editable": true,
    "slideshow": {
     "slide_type": ""
    },
    "tags": []
   },
   "source": [
    "### Jupyter extensions"
   ]
  },
  {
   "cell_type": "code",
   "execution_count": 4,
   "metadata": {
    "editable": true,
    "slideshow": {
     "slide_type": ""
    },
    "tags": []
   },
   "outputs": [],
   "source": [
    "import importlib.util as importlib_util\n",
    "style = importlib_util.find_spec(\"lab_black\")\n",
    "try:\n",
    "    is_pynb = is_pynb = \"nteractive\" in get_ipython().__class__.__name__\n",
    "except NameError:\n",
    "    is_pynb = None"
   ]
  },
  {
   "cell_type": "code",
   "execution_count": 5,
   "metadata": {},
   "outputs": [
    {
     "name": "stdout",
     "output_type": "stream",
     "text": [
      "Loading extension autoreload\n"
     ]
    }
   ],
   "source": [
    "if is_pynb is not None:\n",
    "    print(\"Loading extension autoreload\")\n",
    "    %load_ext autoreload\n",
    "    %autoreload 2\n",
    "if is_pynb is not None and style is not None:\n",
    "    print(\"Loading extension lab_black\")\n",
    "    %load_ext lab_black"
   ]
  },
  {
   "cell_type": "markdown",
   "metadata": {},
   "source": [
    "### Basic modules"
   ]
  },
  {
   "cell_type": "code",
   "execution_count": 1,
   "metadata": {
    "editable": true,
    "slideshow": {
     "slide_type": ""
    },
    "tags": []
   },
   "outputs": [],
   "source": [
    "import os, sys, warnings, re\n",
    "import datetime  # add current date to output"
   ]
  },
  {
   "cell_type": "code",
   "execution_count": 2,
   "metadata": {
    "editable": true,
    "slideshow": {
     "slide_type": ""
    },
    "tags": []
   },
   "outputs": [],
   "source": [
    "import pickle  # saving objects\n",
    "import session_info  # show session information\n",
    "from io import StringIO  # capture print output"
   ]
  },
  {
   "cell_type": "markdown",
   "metadata": {
    "editable": true,
    "slideshow": {
     "slide_type": ""
    },
    "tags": []
   },
   "source": [
    "### Working path"
   ]
  },
  {
   "cell_type": "markdown",
   "metadata": {
    "editable": true,
    "slideshow": {
     "slide_type": ""
    },
    "tags": []
   },
   "source": [
    "Needed to set the working directory to the project's root folder. This let's you\n",
    "run the script from any location and have the correct paths (code, results)."
   ]
  },
  {
   "cell_type": "code",
   "execution_count": null,
   "metadata": {
    "editable": true,
    "slideshow": {
     "slide_type": ""
    },
    "tags": []
   },
   "outputs": [],
   "source": [
    "try:\n",
    "    __file__\n",
    "except NameError:\n",
    "    temp = [\"__session__\", \"__vsc_ipynb_file__\"]\n",
    "    __file__ = [globals()[i] for i in temp if i in globals().keys()]\n",
    "    if len(__file__) == 0:\n",
    "        print(\"Fetching current directory\")\n",
    "        __file__ = os.path.abspath(\"\")  # pathlib.Path().cwd(), globlals()['_dh']\n",
    "        temp = [\"\", os.path.basename(os.path.expanduser(\"~\"))]\n",
    "        if os.path.basename(__file__) in temp:\n",
    "            print(\"calling 'getcwd'\")\n",
    "            __file__ = os.path.abspath(os.getcwd())\n",
    "        __file__ = __file__ + \"/quality_control.ipynb\"\n",
    "    else:\n",
    "        __file__ = __file__[0]\n",
    "    __file__ = os.path.realpath(__file__)"
   ]
  },
  {
   "cell_type": "code",
   "execution_count": null,
   "metadata": {
    "editable": true,
    "slideshow": {
     "slide_type": ""
    },
    "tags": []
   },
   "outputs": [],
   "source": [
    "os.chdir(os.path.dirname(os.path.realpath(__file__)))  # sit in file's path first\n",
    "project_path = os.popen(\"git rev-parse --show-toplevel 2>&1\").read().rstrip()\n",
    "if project_path == \"\" or re.findall(r\"fatal|bound\", project_path):\n",
    "    print(\"Not a git repository, using __file__\")\n",
    "    project_path = os.path.dirname(__file__)\n",
    "# if where I am sitting is different from the expected project path\n",
    "# find which is the shortest path\n",
    "nchars = [len(i) for i in [os.getcwd(), project_path]]\n",
    "if nchars[0] > nchars[1]:\n",
    "    print(\"Changing to project_path\")\n",
    "    os.chdir(project_path)"
   ]
  },
  {
   "cell_type": "markdown",
   "metadata": {
    "editable": true,
    "slideshow": {
     "slide_type": ""
    },
    "tags": []
   },
   "source": [
    "### Logging configuration"
   ]
  },
  {
   "cell_type": "code",
   "execution_count": 3,
   "metadata": {
    "editable": true,
    "slideshow": {
     "slide_type": ""
    },
    "tags": []
   },
   "outputs": [],
   "source": [
    "import logging"
   ]
  },
  {
   "cell_type": "code",
   "execution_count": null,
   "metadata": {
    "editable": true,
    "slideshow": {
     "slide_type": ""
    },
    "tags": []
   },
   "outputs": [],
   "source": [
    "logger_format = \"[%(asctime)s] %(name)s %(levelname)-2s [%(filename)s:%(funcName)s:%(lineno)s] %(message)s\"\n",
    "logger_file = os.path.splitext(os.path.basename(__file__))[0]\n",
    "logger_file = datetime.datetime.now().strftime(\n",
    "    os.path.abspath(f\".logs/{logger_file}_%Y%m%d%H%M%S\")\n",
    ")"
   ]
  },
  {
   "cell_type": "code",
   "execution_count": null,
   "metadata": {
    "editable": true,
    "slideshow": {
     "slide_type": ""
    },
    "tags": []
   },
   "outputs": [],
   "source": [
    "logging.basicConfig(\n",
    "    filename=logger_file,\n",
    "    format=logger_format,\n",
    "    datefmt=\"%Y-%m-%d %H:%M:%S\",\n",
    "    level=logging.INFO,\n",
    ")\n",
    "logging.addLevelName(\n",
    "    logging.INFO, \"\\033[1;32m%s\\033[1;0m\" % logging.getLevelName(logging.INFO)\n",
    ")\n",
    "# set up logging to console too\n",
    "console = logging.StreamHandler(sys.stdout)  # send to output (no red background)\n",
    "console.setLevel(logging.DEBUG)\n",
    "# set a format for console use\n",
    "formatter = logging.Formatter(logger_format)\n",
    "console.setFormatter(formatter)\n",
    "# add the handler to the root logger\n",
    "logging.getLogger(\"\").addHandler(console)\n",
    "logger = logging.getLogger(__name__)"
   ]
  },
  {
   "cell_type": "code",
   "execution_count": null,
   "metadata": {
    "editable": true,
    "slideshow": {
     "slide_type": ""
    },
    "tags": []
   },
   "outputs": [],
   "source": [
    "logging.info(f\"Logging to:\\n{logger_file}\")"
   ]
  },
  {
   "cell_type": "code",
   "execution_count": null,
   "metadata": {
    "editable": true,
    "slideshow": {
     "slide_type": ""
    },
    "tags": []
   },
   "outputs": [],
   "source": [
    "warnings.simplefilter(action=\"ignore\", category=FutureWarning)\n",
    "warnings.simplefilter(action=\"ignore\", category=UserWarning)"
   ]
  },
  {
   "cell_type": "markdown",
   "metadata": {},
   "source": [
    "### Tool (packaged) modules"
   ]
  },
  {
   "cell_type": "code",
   "execution_count": 5,
   "metadata": {},
   "outputs": [],
   "source": [
    "import numpy as np  # often not necessary\n",
    "import pandas as pd  # # check for DataFrame type\n",
    "import scanpy as sc  # basic analyses\n",
    "import matplotlib.pyplot as plt  # manage plotting styles and parameters\n",
    "import matplotlib.figure as mplfig  # check for Figure type"
   ]
  },
  {
   "cell_type": "code",
   "execution_count": 6,
   "metadata": {},
   "outputs": [
    {
     "name": "stderr",
     "output_type": "stream",
     "text": [
      "/Users/vm11/SKIN_WARTS/.venv/lib/python3.9/site-packages/numba/core/decorators.py:246: RuntimeWarning: nopython is set for njit and is ignored\n",
      "  warnings.warn('nopython is set for njit and is ignored', RuntimeWarning)\n"
     ]
    }
   ],
   "source": [
    "import anndata as ad\n",
    "import scipy.sparse as sp\n",
    "import seaborn as sns\n",
    "import squidpy as sq"
   ]
  },
  {
   "cell_type": "markdown",
   "metadata": {
    "editable": true,
    "slideshow": {
     "slide_type": ""
    },
    "tags": []
   },
   "source": [
    "### Presenting environment"
   ]
  },
  {
   "cell_type": "code",
   "execution_count": null,
   "metadata": {
    "editable": true,
    "slideshow": {
     "slide_type": ""
    },
    "tags": []
   },
   "outputs": [],
   "source": [
    "# fmt: off\n",
    "bpaths = \".*\" + os.environ.get('USER', os.environ.get('USERNAME'))\n",
    "bpaths = bpaths + \"|.os.py|.*mamba|.*conda|.*projects\"\n",
    "logger.info(f'Environ: {re.sub(bpaths, \"\", os.__file__)}')\n",
    "logger.info(f'Project: {re.sub(bpaths, \"\", os.getcwd())} (current path)')\n",
    "logger.info(f'Routine: {re.sub(bpaths, \"\", __file__)}'); del bpaths\n",
    "logger.info(os.popen(\"echo Machine: ${HOSTNAME} ${SLURMD_NODENAME} ${PBS_NODEFILE}\").read().rstrip())\n",
    "# fmt: on"
   ]
  },
  {
   "cell_type": "markdown",
   "metadata": {},
   "source": [
    "### In-house/developing modules"
   ]
  },
  {
   "cell_type": "code",
   "execution_count": null,
   "metadata": {},
   "outputs": [],
   "source": [
    "sys_path_add = [\"code/\"]\n",
    "[sys.path.append(i) for i in sys_path_add if i not in sys.path]\n",
    "# import filename as shortname"
   ]
  },
  {
   "cell_type": "markdown",
   "metadata": {},
   "source": [
    "### Session information"
   ]
  },
  {
   "cell_type": "code",
   "execution_count": null,
   "metadata": {
    "editable": true,
    "scrolled": true,
    "slideshow": {
     "slide_type": ""
    },
    "tags": []
   },
   "outputs": [],
   "source": [
    "stdoutt = StringIO()  # issue with print, capture string and send to logger\n",
    "stdout0 = sys.stdout\n",
    "sys.stdout = stdoutt\n",
    "session_info.show(\n",
    "    dependencies=True,\n",
    "    html=False,\n",
    "    excludes=[\n",
    "        \"builtins\",\n",
    "        \"stdlib_list\",\n",
    "        \"importlib_metadata\",\n",
    "        # Special module present if test coverage being calculated\n",
    "        # https://gitlab.com/joelostblom/session_info/-/issues/10\n",
    "        \"$coverage\",\n",
    "    ],\n",
    ")\n",
    "session_info_str = stdoutt.getvalue()\n",
    "logger.info(f\"Session info:\\n{session_info_str}\")\n",
    "sys.stdout = stdout0\n",
    "del session_info_str, stdoutt, stdout0"
   ]
  },
  {
   "cell_type": "markdown",
   "metadata": {
    "editable": true,
    "slideshow": {
     "slide_type": ""
    },
    "tags": []
   },
   "source": [
    "## [Global configuration](#menu) <a class=\"anchor\" id=\"bullet1\"></a>\n",
    "---"
   ]
  },
  {
   "cell_type": "markdown",
   "metadata": {
    "editable": true,
    "slideshow": {
     "slide_type": ""
    },
    "tags": []
   },
   "source": [
    "### Variables and paths"
   ]
  },
  {
   "cell_type": "code",
   "execution_count": null,
   "metadata": {
    "editable": true,
    "slideshow": {
     "slide_type": ""
    },
    "tags": [
     "parameters"
    ]
   },
   "outputs": [],
   "source": [
    "action_name = \"qc\"\n",
    "indata_name = \"temp\"\n",
    "result_name = (\n",
    "    datetime.datetime.now()\n",
    "    .strftime(\"{name}_%Y%m%d-%H%M%S\")\n",
    "    .format(name=f\"{indata_name}_{action_name}\")\n",
    ")"
   ]
  },
  {
   "cell_type": "code",
   "execution_count": null,
   "metadata": {
    "editable": true,
    "slideshow": {
     "slide_type": ""
    },
    "tags": [
     "parameters"
    ]
   },
   "outputs": [],
   "source": [
    "inputs_path = \"/Users/vm11/SKIN_WARTS/data\"\n",
    "extent_strn = \"h5ad\"\n",
    "inputs_file = sample_path"
   ]
  },
  {
   "cell_type": "code",
   "execution_count": null,
   "metadata": {
    "editable": true,
    "slideshow": {
     "slide_type": ""
    },
    "tags": []
   },
   "outputs": [],
   "source": [
    "output_resu = os.path.join(\"./results\", f\"{result_name}\")\n",
    "output_figs = os.path.join(\"./results\", f\"{result_name}\")\n",
    "output_name = re.sub(f\".{extent_strn}|anyelse\", \"\", indata_name)\n",
    "output_file = os.path.join(\n",
    "    inputs_path, \"processed/xenium\", f\"{output_name}_{action_name}.{extent_strn}\"\n",
    ")"
   ]
  },
  {
   "cell_type": "code",
   "execution_count": null,
   "metadata": {
    "editable": true,
    "slideshow": {
     "slide_type": ""
    },
    "tags": []
   },
   "outputs": [],
   "source": [
    "OUTPUTS = dict()"
   ]
  },
  {
   "cell_type": "code",
   "execution_count": null,
   "metadata": {
    "editable": true,
    "slideshow": {
     "slide_type": ""
    },
    "tags": []
   },
   "outputs": [],
   "source": [
    "%whos str dict"
   ]
  },
  {
   "cell_type": "markdown",
   "metadata": {},
   "source": [
    "### Visualisation parameters"
   ]
  },
  {
   "cell_type": "code",
   "execution_count": null,
   "metadata": {
    "editable": true,
    "slideshow": {
     "slide_type": ""
    },
    "tags": []
   },
   "outputs": [],
   "source": [
    "# https://github.com/scverse/scanpy/blob/be99b230fa84e077f5167979bc9f6dacc4ad0d41/src/scanpy/plotting/_rcmod.py#L12\n",
    "# https://github.com/scverse/scanpy/blob/a91bb02b31a637caeee77c71dcd9fbce8437cb7d/src/scanpy/_settings.py#L419-L509\n",
    "rcParams_dict = {\n",
    "    \"figure.autolayout\": True,  # use `tight_layout`\n",
    "    \"figure.dpi\": 80,  # scanpy:80\n",
    "    \"figure.figsize\": (4, 4),  # scanpy:4x4\n",
    "    \"figure.frameon\": False,\n",
    "    \"grid.linestyle\": \"dotted\",\n",
    "    \"grid.color\": \"#f2f2f2\",\n",
    "    \"font.size\": 10,  # scanpy:14\n",
    "    # https://matplotlib.org/stable/users/explain/colors/colormaps.html\n",
    "    \"image.cmap\": \"viridis\",\n",
    "    \"lines.markersize\": 2,  # dotplot size\n",
    "    \"savefig.dpi\": 150,  # default is 'figure', scanpy:150\n",
    "    \"savefig.bbox\": \"tight\",\n",
    "    \"savefig.transparent\": True,\n",
    "}"
   ]
  },
  {
   "cell_type": "code",
   "execution_count": null,
   "metadata": {},
   "outputs": [],
   "source": [
    "sc.settings.set_figure_params(dpi_save=rcParams_dict[\"savefig.dpi\"])\n",
    "sc.settings.set_figure_params(\n",
    "    **{\n",
    "        re.sub(\"figure|\\.\", \"\", k): rcParams_dict[k]\n",
    "        for k in rcParams_dict.keys()\n",
    "        if re.match(\"figure|font\", k) and re.match(\"^((?!layout).)*$\", k)\n",
    "    }\n",
    ")\n",
    "sc.settings.figdir = output_figs"
   ]
  },
  {
   "cell_type": "code",
   "execution_count": null,
   "metadata": {},
   "outputs": [],
   "source": [
    "# plt.style.available or path (.config/rparams_analysis.mplstyle)\n",
    "plt.style.use(\"seaborn-v0_8-colorblind\")\n",
    "rcmax = max([len(i) for i in list(rcParams_dict.keys())])\n",
    "for i in rcParams_dict.keys():\n",
    "    i_def = \"def:\" + str(plt.rcParamsDefault[i]).rjust(10, \" \")\n",
    "    i_new = str(plt.rcParams[i]).rjust(10, \" \")\n",
    "    temp = \" \".join([i.ljust(rcmax, \" \"), i_def, \"|\", i_new, \">\"])\n",
    "    plt.rcParams[i] = rcParams_dict[i]\n",
    "    temp = \" \".join([temp, str(plt.rcParams[i])])\n",
    "    logger.info(temp)"
   ]
  },
  {
   "cell_type": "code",
   "execution_count": null,
   "metadata": {},
   "outputs": [],
   "source": []
  },
  {
   "cell_type": "markdown",
   "metadata": {},
   "source": [
    "## [Loading data](#menu) <a class=\"anchor\" id=\"bullet2\"></a>\n",
    "---"
   ]
  },
  {
   "cell_type": "code",
   "execution_count": null,
   "metadata": {},
   "outputs": [],
   "source": []
  },
  {
   "cell_type": "code",
   "execution_count": null,
   "metadata": {},
   "outputs": [],
   "source": [
    "print(os.getcwd())\n",
    "temp = os.path.abspath(f\"{inputs_file}/cell_feature_matrix.h5\")\n",
    "#adata = sc.read_10x_h5(f\"{inputs_file}/cell_feature_matrix.h5\")\n",
    "adata = sc.read_10x_h5(temp)\n"
   ]
  },
  {
   "cell_type": "code",
   "execution_count": null,
   "metadata": {},
   "outputs": [],
   "source": []
  },
  {
   "cell_type": "code",
   "execution_count": null,
   "metadata": {},
   "outputs": [],
   "source": [
    "print(os.getcwd())"
   ]
  },
  {
   "cell_type": "code",
   "execution_count": null,
   "metadata": {},
   "outputs": [],
   "source": [
    "logger.info(\"\\n\" + adata.__str__())"
   ]
  },
  {
   "cell_type": "code",
   "execution_count": null,
   "metadata": {},
   "outputs": [],
   "source": [
    "mdata = pd.read_csv(f\"{inputs_file}/cells.csv.gz\")"
   ]
  },
  {
   "cell_type": "code",
   "execution_count": null,
   "metadata": {
    "editable": true,
    "slideshow": {
     "slide_type": ""
    },
    "tags": []
   },
   "outputs": [],
   "source": [
    "logger.info(\"\\n\" + mdata.iloc[:5, :5].__str__())"
   ]
  },
  {
   "cell_type": "markdown",
   "metadata": {},
   "source": [
    "## [Pre-processing](#menu) <a class=\"anchor\" id=\"bullet3\"></a>\n",
    "---"
   ]
  },
  {
   "cell_type": "code",
   "execution_count": null,
   "metadata": {},
   "outputs": [],
   "source": [
    "mdata.set_index(adata.obs_names, inplace=True)\n",
    "adata.obs = mdata.copy()"
   ]
  },
  {
   "cell_type": "code",
   "execution_count": null,
   "metadata": {},
   "outputs": [],
   "source": [
    "adata.obsm[\"spatial\"] = adata.obs[[\"x_centroid\", \"y_centroid\"]].copy().to_numpy()"
   ]
  },
  {
   "cell_type": "code",
   "execution_count": null,
   "metadata": {},
   "outputs": [],
   "source": [
    "logger.info(\"Object with medatata:\\n\" + adata.__str__())"
   ]
  },
  {
   "cell_type": "markdown",
   "metadata": {},
   "source": [
    "## [Main](#menu) <a class=\"anchor\" id=\"bullet4\"></a>\n",
    "---"
   ]
  },
  {
   "cell_type": "code",
   "execution_count": null,
   "metadata": {},
   "outputs": [],
   "source": [
    "sc.pp.calculate_qc_metrics(adata, percent_top=(10, 20, 50, 150), inplace=True)"
   ]
  },
  {
   "cell_type": "code",
   "execution_count": null,
   "metadata": {},
   "outputs": [],
   "source": [
    "cprobes = (\n",
    "    adata.obs[\"control_probe_counts\"].sum() / adata.obs[\"total_counts\"].sum() * 100\n",
    ")\n",
    "cwords = (\n",
    "    adata.obs[\"control_codeword_counts\"].sum() / adata.obs[\"total_counts\"].sum() * 100\n",
    ")\n",
    "logger.info(f\"Negative DNA probe count % : {cprobes:.4f}\")\n",
    "logger.info(f\"Negative decoding count % : {cwords:.4f}\")"
   ]
  },
  {
   "cell_type": "code",
   "execution_count": null,
   "metadata": {},
   "outputs": [],
   "source": [
    "fig, axs = plt.subplots(1, 4, figsize=(16, 4))\n",
    "\n",
    "axs[0].set_title(\"Total transcripts per cell\")\n",
    "sns.histplot(\n",
    "    adata.obs[\"total_counts\"],\n",
    "    kde=False,\n",
    "    ax=axs[0],\n",
    ")\n",
    "\n",
    "axs[1].set_title(\"Number of genes detected per cell\")\n",
    "sns.histplot(\n",
    "    adata.obs[\"n_genes_by_counts\"],\n",
    "    kde=False,\n",
    "    ax=axs[1],\n",
    ")\n",
    "\n",
    "axs[2].set_title(\"Area of segmented cells (μm^2)\")\n",
    "sns.histplot(\n",
    "    adata.obs[\"cell_area\"],\n",
    "    kde=False,\n",
    "    ax=axs[2],\n",
    ")\n",
    "\n",
    "axs[3].set_title(\"Nucleus ratio\")\n",
    "sns.histplot(\n",
    "    adata.obs[\"nucleus_area\"] / adata.obs[\"cell_area\"],\n",
    "    kde=False,\n",
    "    ax=axs[3],\n",
    ")\n",
    "OUTPUTS[\"hist_qc-metrics\"] = fig"
   ]
  },
  {
   "cell_type": "markdown",
   "metadata": {},
   "source": [
    "Plot distribution of total cells per gene per segmentation method"
   ]
  },
  {
   "cell_type": "code",
   "execution_count": null,
   "metadata": {},
   "outputs": [],
   "source": [
    "fig, axs = plt.subplots(1, 2, figsize=(15, 4))\n",
    "sns.countplot(\n",
    "    data=adata.obs, y=\"segmentation_method\", hue=\"segmentation_method\", ax=axs[0]\n",
    ")\n",
    "axs[1].set_title(\"Number of cells per gene\")\n",
    "sns.histplot(\n",
    "    adata.var[\"n_cells_by_counts\"], kde=False, bins=1000, ax=axs[1]\n",
    ");  # fmt: skip\n",
    "OUTPUTS[\"hist_segmentation\"] = fig"
   ]
  },
  {
   "cell_type": "code",
   "execution_count": null,
   "metadata": {},
   "outputs": [],
   "source": [
    "%%time\n",
    "plot_columns = [\"total_counts\", \"n_genes_by_counts\"]\n",
    "fig, axs = plt.subplots(ncols=len(plot_columns), figsize=(8, 4))\n",
    "for i, v in enumerate(plot_columns):\n",
    "    col_var = re.sub(\"_\", \"-\", v)\n",
    "    fname = f\"scatter_spatial_{col_var}\"\n",
    "    sq.pl.spatial_scatter(\n",
    "        adata,\n",
    "        library_id=\"spatial\",\n",
    "        shape=None,\n",
    "        color=v,\n",
    "        ax=axs[i],\n",
    "    );\n",
    "OUTPUTS[fname] = fig"
   ]
  },
  {
   "cell_type": "markdown",
   "metadata": {},
   "source": [
    "### Necrosis"
   ]
  },
  {
   "cell_type": "code",
   "execution_count": null,
   "metadata": {},
   "outputs": [],
   "source": [
    "# Change the upper bound of the range to where you think makes sense.\n",
    "hist_pct20 = round(max(adata.obs[\"n_genes_by_counts\"]) / 5)\n",
    "ax = plt.hist(\n",
    "    adata.obs[\"n_genes_by_counts\"], bins=round(hist_pct20 / 10), range=(0, hist_pct20)\n",
    ")\n",
    "fig = plt.gcf()\n",
    "n, bins = ax[0], ax[1]\n",
    "min_index = n.argmin()\n",
    "necrosis_cutoff_genes = (bins[min_index] + bins[min_index + 1]) / 2\n",
    "plt.axvline(x=necrosis_cutoff_genes, color=\"#800f0f\");  # fmt: skip\n",
    "OUTPUTS[\"necrosis-cutoff_n-genes-by-counts\"] = fig"
   ]
  },
  {
   "cell_type": "code",
   "execution_count": null,
   "metadata": {},
   "outputs": [],
   "source": []
  },
  {
   "cell_type": "code",
   "execution_count": null,
   "metadata": {},
   "outputs": [],
   "source": [
    "hist_median50pct = round(np.median(adata.obs[\"total_counts\"]) / 2)\n",
    "ax = plt.hist(\n",
    "    adata.obs[\"total_counts\"], bins=round(hist_pct20 / 10), range=(0, hist_median50pct)\n",
    ")\n",
    "fig = plt.gcf()\n",
    "n, bins = ax[0], ax[1]\n",
    "min_index = n.argmin()\n",
    "necrosis_cutoff_transcripts = (bins[min_index] + bins[min_index + 1]) / 2\n",
    "plt.axvline(x=necrosis_cutoff_transcripts, color=\"#800f0f\");  # fmt: skip\n",
    "OUTPUTS[\"necrosis-cutoff_total-counts\"] = fig"
   ]
  },
  {
   "cell_type": "markdown",
   "metadata": {},
   "source": [
    "It looks like necrosis doesn't show with this panel"
   ]
  },
  {
   "cell_type": "code",
   "execution_count": null,
   "metadata": {},
   "outputs": [],
   "source": [
    "adata.obs[\"necrotic\"] = (adata.obs[\"n_genes_by_counts\"] < necrosis_cutoff_genes) | (\n",
    "    adata.obs[\"total_counts\"] < necrosis_cutoff_transcripts\n",
    ")"
   ]
  },
  {
   "cell_type": "code",
   "execution_count": null,
   "metadata": {},
   "outputs": [],
   "source": [
    "fname = f\"scatter_spatial_necrosis\"\n",
    "OUTPUTS[fname] = sq.pl.spatial_scatter(\n",
    "    adata,\n",
    "    library_id=\"spatial\",\n",
    "    shape=None,\n",
    "    color=\"necrotic\",\n",
    "    return_ax=True,\n",
    ").get_figure()"
   ]
  },
  {
   "cell_type": "markdown",
   "metadata": {},
   "source": [
    "### Minimal filters"
   ]
  },
  {
   "cell_type": "code",
   "execution_count": null,
   "metadata": {},
   "outputs": [],
   "source": [
    "filter_cells_by_genes = 3\n",
    "logger.info(\n",
    "    f\"Filtering out cells with fewer than {filter_cells_by_genes} genes expressed.\"\n",
    ")\n",
    "sc.pp.filter_cells(adata, min_genes=3)"
   ]
  },
  {
   "cell_type": "code",
   "execution_count": null,
   "metadata": {},
   "outputs": [],
   "source": [
    "filter_genes_by_counts = 3\n",
    "logger.info(f\"Filtering out genes with less than {filter_genes_by_counts} counts.\")\n",
    "sc.pp.filter_genes(adata, min_counts=filter_genes_by_counts)"
   ]
  },
  {
   "cell_type": "code",
   "execution_count": null,
   "metadata": {},
   "outputs": [],
   "source": [
    "filter_genes_by_obs_n = 3  # round(0.0001 * len(adata.obs_names))\n",
    "logger.info(\n",
    "    f\"Filtering out genes expressed in fewer than {filter_genes_by_obs_n} cells.\"\n",
    ")\n",
    "sc.pp.filter_genes(adata, min_cells=filter_genes_by_obs_n)"
   ]
  },
  {
   "cell_type": "code",
   "execution_count": null,
   "metadata": {},
   "outputs": [],
   "source": [
    "adata"
   ]
  },
  {
   "cell_type": "markdown",
   "metadata": {},
   "source": [
    "### Processing counts"
   ]
  },
  {
   "cell_type": "code",
   "execution_count": null,
   "metadata": {},
   "outputs": [],
   "source": [
    "adata.layers[\"counts\"] = adata.X.copy()"
   ]
  },
  {
   "cell_type": "code",
   "execution_count": null,
   "metadata": {},
   "outputs": [],
   "source": [
    "sc.pp.normalize_total(adata, target_sum=10000, inplace=True)"
   ]
  },
  {
   "cell_type": "code",
   "execution_count": null,
   "metadata": {},
   "outputs": [],
   "source": [
    "sc.pp.log1p(adata)"
   ]
  },
  {
   "cell_type": "code",
   "execution_count": null,
   "metadata": {},
   "outputs": [],
   "source": [
    "logger.info(\"\\n\" + adata.__str__())"
   ]
  },
  {
   "cell_type": "markdown",
   "metadata": {},
   "source": [
    "## [Conclusions](#menu) <a class=\"anchor\" id=\"bullet5\"></a>\n",
    "---"
   ]
  },
  {
   "cell_type": "code",
   "execution_count": null,
   "metadata": {},
   "outputs": [],
   "source": [
    "temp = list(OUTPUTS.keys())\n",
    "logger.info(f\"Outputs to write ({len(temp)}):\\n \" + \"\\n \".join(temp))"
   ]
  },
  {
   "cell_type": "code",
   "execution_count": null,
   "metadata": {},
   "outputs": [],
   "source": [
    "for i in temp:\n",
    "    if len(re.findall(r\"params|colours\", i)) > 0:\n",
    "        del OUTPUTS[i]"
   ]
  },
  {
   "cell_type": "code",
   "execution_count": null,
   "metadata": {},
   "outputs": [],
   "source": [
    "temp = list(OUTPUTS.keys())\n",
    "logger.info(f\"Outputs to write ({len(temp)}):\\n \" + \"\\n \".join(temp))"
   ]
  },
  {
   "cell_type": "markdown",
   "metadata": {},
   "source": [
    "## [Save](#menu) <a class=\"anchor\" id=\"bullet6\"></a>\n",
    "---"
   ]
  },
  {
   "cell_type": "code",
   "execution_count": null,
   "metadata": {
    "editable": true,
    "slideshow": {
     "slide_type": ""
    },
    "tags": []
   },
   "outputs": [],
   "source": [
    "pflag = \" \\033[1;32m√\\033[0m\" # show file was successfully saved\n",
    "rflag = 0; fflag = 0 # give each file a numerical prefix\n",
    "for filename, item in OUTPUTS.items():\n",
    "    eflag = \" \\033[1;31mX\\033[0m\" # show if file failed to save\n",
    "    # output_resu vs output_figs\n",
    "    if isinstance(item, (pd.DataFrame, dict)):\n",
    "        fname = os.path.join(output_resu, f\"{str(rflag).zfill(2)}_{filename}\")\n",
    "        rflag += 1\n",
    "    else:\n",
    "        fname = os.path.join(output_figs, f\"{str(fflag).zfill(2)}_{filename}\")\n",
    "        fflag += 1\n",
    "    oflag = \"Storing\" + str(type(item)) + \"\\n\" + fname\n",
    "    # create directory if it does not exist\n",
    "    if not os.path.isdir(os.path.dirname(fname)):\n",
    "        os.makedirs(os.path.dirname(fname))\n",
    "    # add extension and save based on type() # ---------------------------------\n",
    "    if isinstance(item, (mplfig.Figure, tuple)):\n",
    "        (item[0] if isinstance(item, tuple) else item).savefig(f\"{fname}.png\")\n",
    "        plt.close(); eflag = pflag\n",
    "    elif isinstance(item, pd.DataFrame):\n",
    "        item.to_csv(f\"{fname}.csv\"); eflag = pflag\n",
    "    elif isinstance(item, dict):\n",
    "        with open(f\"{fname}.pickle\", 'wb') as handle:\n",
    "            pickle.dump(item, handle, protocol=pickle.HIGHEST_PROTOCOL)\n",
    "        eflag = pflag\n",
    "    elif item is not None:\n",
    "        try:\n",
    "            item.savefig(f\"{fname}.png\")\n",
    "        except:\n",
    "            pass\n",
    "        plt.close(); eflag = pflag\n",
    "    logger.info(f\"{oflag}{eflag}\")"
   ]
  },
  {
   "cell_type": "code",
   "execution_count": null,
   "metadata": {},
   "outputs": [],
   "source": [
    "logger.info(f\"Saving to:\\n{output_file}\")"
   ]
  },
  {
   "cell_type": "code",
   "execution_count": null,
   "metadata": {},
   "outputs": [],
   "source": []
  },
  {
   "cell_type": "code",
   "execution_count": null,
   "metadata": {},
   "outputs": [],
   "source": [
    "adata.write(output_file)"
   ]
  },
  {
   "cell_type": "code",
   "execution_count": null,
   "metadata": {},
   "outputs": [],
   "source": [
    "%%bash -s \"$project_path\" \"$result_name\"\n",
    "echo \"Notebook at '$1' completed '$2'\" | mail -s 'Jupyter notebook' ${USER}@$(cat /etc/mailname)"
   ]
  },
  {
   "cell_type": "markdown",
   "metadata": {},
   "source": [
    "Done."
   ]
  }
 ],
 "metadata": {
  "kernelspec": {
   "display_name": "Python 3 (ipykernel)",
   "language": "python",
   "name": "python3"
  },
  "language_info": {
   "codemirror_mode": {
    "name": "ipython",
    "version": 3
   },
   "file_extension": ".py",
   "mimetype": "text/x-python",
   "name": "python",
   "nbconvert_exporter": "python",
   "pygments_lexer": "ipython3",
   "version": "3.9.6"
  }
 },
 "nbformat": 4,
 "nbformat_minor": 4
}
